{
 "cells": [
  {
   "cell_type": "code",
   "execution_count": 1,
   "id": "24c98dc6-8771-4607-b53a-16d57067df71",
   "metadata": {},
   "outputs": [
    {
     "ename": "SyntaxError",
     "evalue": "invalid character '‘' (U+2018) (2599857123.py, line 9)",
     "output_type": "error",
     "traceback": [
      "\u001b[1;36m  Cell \u001b[1;32mIn[1], line 9\u001b[1;36m\u001b[0m\n\u001b[1;33m    IBMQ.enable_account(‘ENTER API KEY HERE’)\u001b[0m\n\u001b[1;37m                        ^\u001b[0m\n\u001b[1;31mSyntaxError\u001b[0m\u001b[1;31m:\u001b[0m invalid character '‘' (U+2018)\n"
     ]
    }
   ],
   "source": [
    "from qiskit import QuantumCircuit, ClassicalRegister, QuantumRegister\n",
    "import math\n",
    "# Create a 5-qubit quantum circuit\n",
    "q = QuantumRegister(5, name='q')\n",
    "c = ClassicalRegister(5, name='c')\n",
    "qc = QuantumCircuit(q, c)\n",
    "\n",
    "# Implement the 5-qubit QFT\n",
    "for i in range(5):\n",
    "    \n",
    "    # Hadamard gate on qubit i\n",
    "    qc.h(q[i])\n",
    "    \n",
    "    # Controlled phase gates\n",
    "    for j in range(i):\n",
    "        qc.cp(math.pi / (2**(i-j)), q[j], q[i])\n",
    "\n",
    "# Measure the qubits\n",
    "for i in range(5):\n",
    "    qc.measure(q[i], c[i])\n",
    "\n",
    "# Draw the circuit\n",
    "qc.draw()"
   ]
  },
  {
   "cell_type": "code",
   "execution_count": null,
   "id": "153b1860-945f-4450-bce5-e93ac0cb0513",
   "metadata": {},
   "outputs": [],
   "source": []
  }
 ],
 "metadata": {
  "kernelspec": {
   "display_name": "Python 3 (ipykernel)",
   "language": "python",
   "name": "python3"
  },
  "language_info": {
   "codemirror_mode": {
    "name": "ipython",
    "version": 3
   },
   "file_extension": ".py",
   "mimetype": "text/x-python",
   "name": "python",
   "nbconvert_exporter": "python",
   "pygments_lexer": "ipython3",
   "version": "3.12.4"
  }
 },
 "nbformat": 4,
 "nbformat_minor": 5
}
